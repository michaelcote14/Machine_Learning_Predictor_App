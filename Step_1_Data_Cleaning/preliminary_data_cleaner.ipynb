{
 "cells": [
  {
   "cell_type": "code",
   "execution_count": 1,
   "metadata": {
    "collapsed": true
   },
   "outputs": [],
   "source": [
    "import pandas as pd\n",
    "import numpy as np"
   ]
  },
  {
   "cell_type": "code",
   "execution_count": 2,
   "outputs": [],
   "source": [
    "# Bring in data\n",
    "file_location = \"C:/Users/micha/Pycharm(Local)/LinearRegressionRepo/Saved_CSVs/Volare_Sales_test.csv\"\n",
    "data = pd.read_csv(file_location)"
   ],
   "metadata": {
    "collapsed": false
   }
  },
  {
   "cell_type": "code",
   "execution_count": 4,
   "outputs": [],
   "source": [
    "# Cyclical Converter\n",
    "def cyclical_converter(data, column_to_change, time_frame):\n",
    "    if time_frame == 'months':\n",
    "        # The number is the coefficient, use an online grapher to find the coefficient\n",
    "        # This is the best cycle math for months (I used DESMOS graphing calc to find numbers)\n",
    "        data[column_to_change] = -np.cos(0.5236 * data[column_to_change])\n",
    "\n",
    "    if time_frame == 'day_of_month':\n",
    "        # This is the best cycle for days of the month\n",
    "        data[column_to_change] = np.sin(0.1044 * data[column_to_change]) # This could be more accurate\n",
    "\n",
    "    if time_frame == 'day_of_week':\n",
    "        # This is the best cycle for day of week\n",
    "        data[column_to_change] = np.sin(0.446856 * data[column_to_change])\n",
    "\n",
    "    if time_frame == 'week_of_year':\n",
    "        # This is the best cycle for week of year\n",
    "        data[column_to_change] = np.sin(0.06036 * data[column_to_change])\n",
    "\n",
    "    return data\n",
    "\n",
    "file_location = \"C:/Users/micha/Pycharm(Local)/LinearRegressionRepo/Saved_CSVs/Volare_Sales_test.csv\"\n",
    "data = pd.read_csv(file_location)\n",
    "\n",
    "converted_dataframe1 = cyclical_converter(data, 'Day of Month', 'day_of_month')\n",
    "converted_dataframe2 = cyclical_converter(converted_dataframe1, 'Month', 'months')\n",
    "converted_dataframe3 = cyclical_converter(converted_dataframe2, 'Day of Week', 'day_of_week')\n",
    "converted_dataframe4 = cyclical_converter(converted_dataframe3, 'Week of Year', 'week_of_year')"
   ],
   "metadata": {
    "collapsed": false
   }
  },
  {
   "cell_type": "code",
   "execution_count": null,
   "outputs": [],
   "source": [
    "# # Numerical Category Transformer\n",
    "# # Plug the numerical column to categorize in\n",
    "# column_to_categorize = 'MSSubClass'\n",
    "# data[column_to_categorize] = data[column_to_categorize].astype(str)\n",
    "# print(data[column_to_categorize])\n",
    "# # concat 'category to the beginning of the text\n",
    "# data[column_to_categorize] = 'Category ' + data[column_to_categorize].astype(str)\n",
    "# print(data[column_to_categorize])\n",
    "#\n",
    "# # Save the new CSV\n",
    "# original_csv_name = data_location[data_location.rfind('/', 0) + 1:]\n",
    "# original_data_directory = data_location[:data_location.rfind('/', 0) + 1]\n",
    "# print(original_data_directory)\n",
    "# data.to_csv((:data_location.rfind('.csv', 0)) +  '(categorized)')"
   ],
   "metadata": {
    "collapsed": false
   }
  },
  {
   "cell_type": "code",
   "execution_count": null,
   "outputs": [],
   "source": [
    "# Save results to a csv\n",
    "converted_dataframe4.to_csv(file_location[:file_location.rfind('.', 0)] + '(time_converted).csv')"
   ],
   "metadata": {
    "collapsed": false
   }
  }
 ],
 "metadata": {
  "kernelspec": {
   "display_name": "Python 3",
   "language": "python",
   "name": "python3"
  },
  "language_info": {
   "codemirror_mode": {
    "name": "ipython",
    "version": 2
   },
   "file_extension": ".py",
   "mimetype": "text/x-python",
   "name": "python",
   "nbconvert_exporter": "python",
   "pygments_lexer": "ipython2",
   "version": "2.7.6"
  }
 },
 "nbformat": 4,
 "nbformat_minor": 0
}
